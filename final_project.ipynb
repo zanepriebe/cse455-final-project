{
  "nbformat": 4,
  "nbformat_minor": 0,
  "metadata": {
    "kernelspec": {
      "display_name": "Python 3",
      "language": "python",
      "name": "python3"
    },
    "language_info": {
      "codemirror_mode": {
        "name": "ipython",
        "version": 3
      },
      "file_extension": ".py",
      "mimetype": "text/x-python",
      "name": "python",
      "nbconvert_exporter": "python",
      "pygments_lexer": "ipython3",
      "version": "3.6.8"
    },
    "colab": {
      "provenance": [],
      "include_colab_link": true
    },
    "gpuClass": "standard"
  },
  "cells": [
    {
      "cell_type": "markdown",
      "metadata": {
        "id": "view-in-github",
        "colab_type": "text"
      },
      "source": [
        "<a href=\"https://colab.research.google.com/github/zanepriebe/cse455-final-project/blob/main/final_project.ipynb\" target=\"_parent\"><img src=\"https://colab.research.google.com/assets/colab-badge.svg\" alt=\"Open In Colab\"/></a>"
      ]
    },
    {
      "cell_type": "markdown",
      "source": [
        "# ***EVERYTHING BELOW THIS WAS FROM JOE'S TUTORIAL AND CAN BE REMOVED (I HAVEN'T REMOVED IT YET BECAUSE I THOUGHT IT MIGHT BE HELPFUL? I'M NOT SURE)***"
      ],
      "metadata": {
        "id": "ARV7CjzD_Tq6"
      }
    },
    {
      "cell_type": "code",
      "metadata": {
        "id": "rcdw-Byt4dEs"
      },
      "source": [
        "%matplotlib inline"
      ],
      "execution_count": null,
      "outputs": []
    },
    {
      "cell_type": "markdown",
      "metadata": {
        "id": "BjzxV3Xw4dEx"
      },
      "source": [
        "\n",
        "Tensors\n",
        "--------------------------------------------\n",
        "\n",
        "Tensors are a specialized data structure that are very similar to arrays\n",
        "and matrices. In PyTorch, we use tensors to encode the inputs and\n",
        "outputs of a model, as well as the model’s parameters.\n",
        "\n",
        "Tensors are similar to NumPy’s ndarrays, except that tensors can run on\n",
        "GPUs or other specialized hardware to accelerate computing. If you’re familiar with ndarrays, you’ll\n",
        "be right at home with the Tensor API. If not, follow along in this quick\n",
        "API walkthrough.\n",
        "\n",
        "\n"
      ]
    },
    {
      "cell_type": "code",
      "metadata": {
        "id": "CQjiBuSU4dEy"
      },
      "source": [
        "import torch\n",
        "import numpy as np"
      ],
      "execution_count": null,
      "outputs": []
    },
    {
      "cell_type": "markdown",
      "metadata": {
        "id": "Ry_GqU_K4dEy"
      },
      "source": [
        "Tensor Initialization\n",
        "~~~~~~~~~~~~~~~~~~~~~\n",
        "\n",
        "Tensors can be initialized in various ways. Take a look at the following examples:\n",
        "\n",
        "**Directly from data**\n",
        "\n",
        "Tensors can be created directly from data. The data type is automatically inferred.\n",
        "\n"
      ]
    },
    {
      "cell_type": "code",
      "metadata": {
        "id": "UEzvdsMN4dEy",
        "colab": {
          "base_uri": "https://localhost:8080/"
        },
        "outputId": "d9cb20c6-40c6-40da-dc1e-d24e15e47df6"
      },
      "source": [
        "data = [[1, 2, 5],[3, 4, 1]]\n",
        "x_data = torch.tensor(data, dtype=torch.float32)\n",
        "print(x_data)"
      ],
      "execution_count": null,
      "outputs": [
        {
          "output_type": "stream",
          "name": "stdout",
          "text": [
            "tensor([[1., 2., 5.],\n",
            "        [3., 4., 1.]])\n"
          ]
        }
      ]
    },
    {
      "cell_type": "code",
      "source": [
        "print(x_data.size())"
      ],
      "metadata": {
        "id": "u3IfM7EKHrjW",
        "colab": {
          "base_uri": "https://localhost:8080/"
        },
        "outputId": "e842319b-8f61-42dc-ba89-c5510521adb7"
      },
      "execution_count": null,
      "outputs": [
        {
          "output_type": "stream",
          "name": "stdout",
          "text": [
            "torch.Size([2, 3])\n"
          ]
        }
      ]
    },
    {
      "cell_type": "code",
      "source": [
        "print(x_data.dtype)"
      ],
      "metadata": {
        "id": "FfuTILZDIAU6",
        "colab": {
          "base_uri": "https://localhost:8080/"
        },
        "outputId": "817a64d3-1b8f-48b0-d271-eede22b4c978"
      },
      "execution_count": null,
      "outputs": [
        {
          "output_type": "stream",
          "name": "stdout",
          "text": [
            "torch.float32\n"
          ]
        }
      ]
    },
    {
      "cell_type": "markdown",
      "metadata": {
        "id": "xTzI1fR24dEy"
      },
      "source": [
        "**From a NumPy array**\n",
        "\n",
        "Tensors can be created from NumPy arrays (and vice versa - see `bridge-to-np-label`).\n",
        "\n"
      ]
    },
    {
      "cell_type": "code",
      "metadata": {
        "id": "nIL9FFrL4dEz"
      },
      "source": [
        "np_array = np.array(data)\n",
        "x_np = torch.from_numpy(np_array)"
      ],
      "execution_count": null,
      "outputs": []
    },
    {
      "cell_type": "markdown",
      "metadata": {
        "id": "uBbOkWiW4dEz"
      },
      "source": [
        "**From another tensor:**\n",
        "\n",
        "The new tensor retains the properties (shape, datatype) of the argument tensor, unless explicitly overridden.\n",
        "\n"
      ]
    },
    {
      "cell_type": "code",
      "metadata": {
        "id": "99s7eHDX4dEz",
        "colab": {
          "base_uri": "https://localhost:8080/"
        },
        "outputId": "351dd0ba-765d-48ea-8b17-0936c57239a7"
      },
      "source": [
        "x_ones = torch.ones_like(x_data) # retains the properties of x_data\n",
        "print(f\"Ones Tensor: \\n {x_ones} \\n\")\n",
        "\n",
        "x_rand = torch.rand_like(x_data, dtype=torch.float) # overrides the datatype of x_data\n",
        "print(f\"Random Tensor: \\n {x_rand} \\n\")"
      ],
      "execution_count": null,
      "outputs": [
        {
          "output_type": "stream",
          "name": "stdout",
          "text": [
            "Ones Tensor: \n",
            " tensor([[1., 1., 1.],\n",
            "        [1., 1., 1.]]) \n",
            "\n",
            "Random Tensor: \n",
            " tensor([[0.1074, 0.7984, 0.6526],\n",
            "        [0.6090, 0.4602, 0.7684]]) \n",
            "\n"
          ]
        }
      ]
    },
    {
      "cell_type": "markdown",
      "metadata": {
        "id": "pW1c90d_4dEz"
      },
      "source": [
        "**With random or constant values:**\n",
        "\n",
        "``shape`` is a tuple of tensor dimensions. In the functions below, it determines the dimensionality of the output tensor.\n",
        "\n"
      ]
    },
    {
      "cell_type": "code",
      "metadata": {
        "id": "tHxuybBX4dE0",
        "colab": {
          "base_uri": "https://localhost:8080/"
        },
        "outputId": "c35a569e-d533-46de-a403-597d75a3abdf"
      },
      "source": [
        "shape = (2,3,)\n",
        "rand_tensor = torch.rand(shape)\n",
        "ones_tensor = torch.ones(shape)\n",
        "zeros_tensor = torch.zeros(shape)\n",
        "\n",
        "print(f\"Random Tensor: \\n {rand_tensor} \\n\")\n",
        "print(f\"Ones Tensor: \\n {ones_tensor} \\n\")\n",
        "print(f\"Zeros Tensor: \\n {zeros_tensor}\")"
      ],
      "execution_count": null,
      "outputs": [
        {
          "output_type": "stream",
          "name": "stdout",
          "text": [
            "Random Tensor: \n",
            " tensor([[0.9102, 0.3554, 0.5249],\n",
            "        [0.2222, 0.7222, 0.1730]]) \n",
            "\n",
            "Ones Tensor: \n",
            " tensor([[1., 1., 1.],\n",
            "        [1., 1., 1.]]) \n",
            "\n",
            "Zeros Tensor: \n",
            " tensor([[0., 0., 0.],\n",
            "        [0., 0., 0.]])\n"
          ]
        }
      ]
    },
    {
      "cell_type": "markdown",
      "metadata": {
        "id": "B6rTNoeE4dE0"
      },
      "source": [
        "--------------\n",
        "\n",
        "\n"
      ]
    },
    {
      "cell_type": "markdown",
      "metadata": {
        "id": "i3VXRSLO4dE0"
      },
      "source": [
        "Tensor Attributes\n",
        "~~~~~~~~~~~~~~~~~\n",
        "\n",
        "Tensor attributes describe their shape, datatype, and the device on which they are stored.\n",
        "\n"
      ]
    },
    {
      "cell_type": "code",
      "metadata": {
        "id": "1iLki8Ib4dE0",
        "colab": {
          "base_uri": "https://localhost:8080/"
        },
        "outputId": "0c59d66a-a103-4a01-e7a2-2b4a8bb36a6a"
      },
      "source": [
        "tensor = torch.rand(3,4)\n",
        "\n",
        "print(f\"Shape of tensor: {tensor.shape}\")\n",
        "print(f\"Datatype of tensor: {tensor.dtype}\")\n",
        "print(f\"Device tensor is stored on: {tensor.device}\")"
      ],
      "execution_count": null,
      "outputs": [
        {
          "output_type": "stream",
          "name": "stdout",
          "text": [
            "Shape of tensor: torch.Size([3, 4])\n",
            "Datatype of tensor: torch.float32\n",
            "Device tensor is stored on: cpu\n"
          ]
        }
      ]
    },
    {
      "cell_type": "markdown",
      "metadata": {
        "id": "y2KZ33q84dE0"
      },
      "source": [
        "--------------\n",
        "\n",
        "\n"
      ]
    },
    {
      "cell_type": "markdown",
      "metadata": {
        "id": "6oULsJFy4dE0"
      },
      "source": [
        "Tensor Operations\n",
        "~~~~~~~~~~~~~~~~~\n",
        "\n",
        "Over 100 tensor operations, including transposing, indexing, slicing,\n",
        "mathematical operations, linear algebra, random sampling, and more are\n",
        "comprehensively described\n",
        "`here <https://pytorch.org/docs/stable/torch.html>`__.\n",
        "\n",
        "Each of them can be run on the GPU (at typically higher speeds than on a\n",
        "CPU). If you’re using Colab, allocate a GPU by going to Edit > Notebook\n",
        "Settings.\n",
        "\n",
        "\n"
      ]
    },
    {
      "cell_type": "code",
      "metadata": {
        "id": "DaniUxNY4dE1"
      },
      "source": [
        "# We move our tensor to the GPU if available\n",
        "if torch.cuda.is_available():\n",
        "  tensor = tensor.to('cuda')"
      ],
      "execution_count": null,
      "outputs": []
    },
    {
      "cell_type": "code",
      "metadata": {
        "id": "453HnI8zGSwD",
        "colab": {
          "base_uri": "https://localhost:8080/"
        },
        "outputId": "ffb6d9ea-1ebf-4c8d-ae15-a2ac0aed6514"
      },
      "source": [
        "print(tensor)"
      ],
      "execution_count": null,
      "outputs": [
        {
          "output_type": "stream",
          "name": "stdout",
          "text": [
            "tensor([[0.5511, 0.3579, 0.4352, 0.7897],\n",
            "        [0.3190, 0.7519, 0.8802, 0.0222],\n",
            "        [0.1756, 0.9256, 0.4246, 0.5621]])\n"
          ]
        }
      ]
    },
    {
      "cell_type": "markdown",
      "metadata": {
        "id": "KwJ3pVRh4dE1"
      },
      "source": [
        "Try out some of the operations from the list.\n",
        "If you're familiar with the NumPy API, you'll find the Tensor API a breeze to use.\n",
        "\n",
        "\n"
      ]
    },
    {
      "cell_type": "markdown",
      "metadata": {
        "id": "yHwEXhyf4dE1"
      },
      "source": [
        "**Standard numpy-like indexing and slicing:**\n",
        "\n"
      ]
    },
    {
      "cell_type": "code",
      "metadata": {
        "id": "LdB3fJ6e4dE1",
        "colab": {
          "base_uri": "https://localhost:8080/"
        },
        "outputId": "f08e24eb-dcfd-44ad-a9c3-0a0534b7bda9"
      },
      "source": [
        "tensor = torch.ones(4, 4)\n",
        "tensor[:,1] = 0\n",
        "print(tensor)"
      ],
      "execution_count": null,
      "outputs": [
        {
          "output_type": "stream",
          "name": "stdout",
          "text": [
            "tensor([[1., 0., 1., 1.],\n",
            "        [1., 0., 1., 1.],\n",
            "        [1., 0., 1., 1.],\n",
            "        [1., 0., 1., 1.]])\n"
          ]
        }
      ]
    },
    {
      "cell_type": "markdown",
      "metadata": {
        "id": "TI1wweQk4dE1"
      },
      "source": [
        "**Joining tensors** You can use ``torch.cat`` to concatenate a sequence of tensors along a given dimension.\n",
        "See also `torch.stack <https://pytorch.org/docs/stable/generated/torch.stack.html>`__,\n",
        "another tensor joining op that is subtly different from ``torch.cat``.\n",
        "\n"
      ]
    },
    {
      "cell_type": "code",
      "metadata": {
        "id": "VhYVVizS4dE2",
        "colab": {
          "base_uri": "https://localhost:8080/"
        },
        "outputId": "c6b9b9fb-3d1c-4451-c2c8-dd332d367f37"
      },
      "source": [
        "t1 = torch.cat([tensor, tensor, tensor], dim=1)\n",
        "print(t1)"
      ],
      "execution_count": null,
      "outputs": [
        {
          "output_type": "stream",
          "name": "stdout",
          "text": [
            "tensor([[1., 0., 1., 1., 1., 0., 1., 1., 1., 0., 1., 1.],\n",
            "        [1., 0., 1., 1., 1., 0., 1., 1., 1., 0., 1., 1.],\n",
            "        [1., 0., 1., 1., 1., 0., 1., 1., 1., 0., 1., 1.],\n",
            "        [1., 0., 1., 1., 1., 0., 1., 1., 1., 0., 1., 1.]])\n"
          ]
        }
      ]
    },
    {
      "cell_type": "markdown",
      "metadata": {
        "id": "6rGcWPN64dE2"
      },
      "source": [
        "**Multiplying tensors**\n",
        "\n"
      ]
    },
    {
      "cell_type": "code",
      "metadata": {
        "id": "5TvoCGDz4dE2",
        "colab": {
          "base_uri": "https://localhost:8080/"
        },
        "outputId": "caaaf741-f0bf-4f23-b0cc-c0d12b011d4d"
      },
      "source": [
        "tensor = torch.rand(4,4)\n",
        "tensor2 = torch.rand(4,4)\n",
        "print(tensor)\n",
        "# This computes the element-wise product\n",
        "print(f\"tensor.mul(tensor) \\n {tensor.mul(tensor2)} \\n\")\n",
        "# Alternative syntax:\n",
        "print(f\"tensor * tensor \\n {tensor * tensor2}\")"
      ],
      "execution_count": null,
      "outputs": [
        {
          "output_type": "stream",
          "name": "stdout",
          "text": [
            "tensor([[0.2841, 0.4750, 0.4269, 0.6623],\n",
            "        [0.8921, 0.5680, 0.5376, 0.6816],\n",
            "        [0.5278, 0.6801, 0.4703, 0.8705],\n",
            "        [0.9937, 0.3063, 0.1588, 0.9069]])\n",
            "tensor.mul(tensor) \n",
            " tensor([[0.2226, 0.1069, 0.3729, 0.5194],\n",
            "        [0.7049, 0.2360, 0.2209, 0.3133],\n",
            "        [0.4009, 0.3798, 0.3991, 0.5064],\n",
            "        [0.2531, 0.2833, 0.0678, 0.0023]]) \n",
            "\n",
            "tensor * tensor \n",
            " tensor([[0.2226, 0.1069, 0.3729, 0.5194],\n",
            "        [0.7049, 0.2360, 0.2209, 0.3133],\n",
            "        [0.4009, 0.3798, 0.3991, 0.5064],\n",
            "        [0.2531, 0.2833, 0.0678, 0.0023]])\n"
          ]
        }
      ]
    },
    {
      "cell_type": "markdown",
      "metadata": {
        "id": "dWHBIXIq4dE2"
      },
      "source": [
        "This computes the matrix multiplication between two tensors\n",
        "\n"
      ]
    },
    {
      "cell_type": "code",
      "metadata": {
        "id": "nF8wfvdw4dE2",
        "colab": {
          "base_uri": "https://localhost:8080/"
        },
        "outputId": "f70e462b-74d4-422c-e387-6ed0cdeda671"
      },
      "source": [
        "tensor = torch.rand(4,3)\n",
        "print(f\"tensor.matmul(tensor.T) \\n {tensor.matmul(tensor.T)} \\n\")\n",
        "# Alternative syntax:\n",
        "print(f\"tensor @ tensor.T \\n {tensor @ tensor.T}\")"
      ],
      "execution_count": null,
      "outputs": [
        {
          "output_type": "stream",
          "name": "stdout",
          "text": [
            "tensor.matmul(tensor.T) \n",
            " tensor([[0.4040, 0.4621, 0.6901, 0.4123],\n",
            "        [0.4621, 1.1270, 0.8620, 0.2152],\n",
            "        [0.6901, 0.8620, 1.4509, 0.9561],\n",
            "        [0.4123, 0.2152, 0.9561, 0.8347]]) \n",
            "\n",
            "tensor @ tensor.T \n",
            " tensor([[0.4040, 0.4621, 0.6901, 0.4123],\n",
            "        [0.4621, 1.1270, 0.8620, 0.2152],\n",
            "        [0.6901, 0.8620, 1.4509, 0.9561],\n",
            "        [0.4123, 0.2152, 0.9561, 0.8347]])\n"
          ]
        }
      ]
    },
    {
      "cell_type": "markdown",
      "metadata": {
        "id": "5XNjhbpEJo6h"
      },
      "source": [
        "**Tensor Projecting** PyTorch will automaticall infer how to handle some operations when tensor sizes don't match up perfectly. In this example you can multiply a scalar, a row matrix, or a column matrix by a 2d matrix and get the same result. This is both a feature and a potential hassle because it can hide bugs if you aren't careful!"
      ]
    },
    {
      "cell_type": "code",
      "metadata": {
        "id": "pxkQj07gJC05",
        "colab": {
          "base_uri": "https://localhost:8080/"
        },
        "outputId": "7088fd78-3f9f-4b54-a5b8-3af9e029e1bb"
      },
      "source": [
        "tones = torch.ones(4,2)\n",
        "ttwos = 2 * tones\n",
        "tworow = 2 * torch.ones(1,2)\n",
        "twocol = 2 * torch.ones(4,1)\n",
        "\n",
        "row = torch.tensor([[1,2]])\n",
        "\n",
        "print(tones)\n",
        "print(ttwos)\n",
        "print(tworow)\n",
        "print(twocol)\n",
        "print(row)\n",
        "print(ttwos * row)\n",
        "\n",
        "#ttwos2 = tones * tworow\n",
        "#ttwos3 = tones * twocol\n",
        "\n",
        "#print(ttwos)\n",
        "#print(ttwos2)\n",
        "#print(ttwos3)"
      ],
      "execution_count": null,
      "outputs": [
        {
          "output_type": "stream",
          "name": "stdout",
          "text": [
            "tensor([[1., 1.],\n",
            "        [1., 1.],\n",
            "        [1., 1.],\n",
            "        [1., 1.]])\n",
            "tensor([[2., 2.],\n",
            "        [2., 2.],\n",
            "        [2., 2.],\n",
            "        [2., 2.]])\n",
            "tensor([[2., 2.]])\n",
            "tensor([[2.],\n",
            "        [2.],\n",
            "        [2.],\n",
            "        [2.]])\n",
            "tensor([[1, 2]])\n",
            "tensor([[2., 4.],\n",
            "        [2., 4.],\n",
            "        [2., 4.],\n",
            "        [2., 4.]])\n"
          ]
        }
      ]
    },
    {
      "cell_type": "markdown",
      "metadata": {
        "id": "pKGF1ZLh8GXE"
      },
      "source": [
        "#Training a Neural Network in PyTorch#\n",
        "\n",
        "PyTorch is a powerful, widely-used machine learning library. It has all the latest neural network layers and functions and supports GPU computation.\n",
        "\n",
        "Most neural network research these days either happens in PyTorch or TensorFlow. Google Research develops TensorFlow while Facebook AI Research develops PyTorch. Functionally they are probably very similar, I just know a lot of people who use PyTorch and it seems like it might be somewhat easier for beginners to learn. It is important to have some experience in one of these two frameworks but if you understand the ideas and concepts you shouldn't have too much trouble moving between them.\n",
        "\n",
        "The `torch` library provides the basic functions we need when dealing with `tensors`. `tensors` are a generalization of matrices to arbirtrary numbers of dimensions (a matrix is a 2D tensor). Types of tensors:\n",
        "\n",
        "\n",
        "*   0 dimensional: Scalar\n",
        "*   1 dimensional: Array\n",
        "*   2 dimensional: Matrix\n",
        "*   3 dimensional: Number cubey thingy\n",
        "*   4 dimensional: ?????\n",
        "\n",
        "Anywho, let's start with our opening chant to invoke the power of PyTorch to aid us. The last line is a special call to the GPU gods to smile on our endeavor.\n"
      ]
    },
    {
      "cell_type": "code",
      "metadata": {
        "id": "ehrybK-XPJrr",
        "colab": {
          "base_uri": "https://localhost:8080/"
        },
        "outputId": "07395c20-6417-4163-8f1d-5bd78f008375"
      },
      "source": [
        "import torch\n",
        "import torchvision\n",
        "import torchvision.transforms as transforms\n",
        "\n",
        "device = torch.device(\"cuda:0\" if torch.cuda.is_available() else \"cpu\")\n",
        "print(device)"
      ],
      "execution_count": null,
      "outputs": [
        {
          "output_type": "stream",
          "name": "stdout",
          "text": [
            "cpu\n"
          ]
        }
      ]
    },
    {
      "cell_type": "markdown",
      "metadata": {
        "id": "T7rPSRhhBoQc"
      },
      "source": [
        "##Time For Some Data##\n",
        "\n",
        "PyTorch has some built tools for downloading and loading common datasets. We'll be playing around with MNIST in this example. It is a dataset of 28x28 grayscale handwritten digits 0-9. There are 60,000 images in the training set and 10,000 in the test set.\n",
        "\n"
      ]
    },
    {
      "cell_type": "code",
      "metadata": {
        "id": "iMUkulSBTNwo",
        "colab": {
          "base_uri": "https://localhost:8080/"
        },
        "outputId": "ea26038d-0488-4907-d8bd-e53607d34a2d"
      },
      "source": [
        "def get_mnist_data():\n",
        "  trainset = torchvision.datasets.MNIST(root='./data', train=True, download=True,\n",
        "                                        transform=transforms.ToTensor())\n",
        "  trainloader = torch.utils.data.DataLoader(trainset, batch_size=32, shuffle=True,\n",
        "                                            num_workers=8)\n",
        "\n",
        "  testset = torchvision.datasets.MNIST(root='./data', train=False, download=True,\n",
        "                                      transform=transforms.ToTensor())\n",
        "  testloader = torch.utils.data.DataLoader(testset, batch_size=32, shuffle=False,\n",
        "                                          num_workers=8)\n",
        "  classes = range(10)\n",
        "  return {'train': trainloader, 'test': testloader, 'classes': classes}\n",
        "\n",
        "data = get_mnist_data()"
      ],
      "execution_count": null,
      "outputs": [
        {
          "output_type": "stream",
          "name": "stdout",
          "text": [
            "Downloading http://yann.lecun.com/exdb/mnist/train-images-idx3-ubyte.gz\n",
            "Downloading http://yann.lecun.com/exdb/mnist/train-images-idx3-ubyte.gz to ./data/MNIST/raw/train-images-idx3-ubyte.gz\n"
          ]
        },
        {
          "output_type": "stream",
          "name": "stderr",
          "text": [
            "100%|██████████| 9912422/9912422 [00:00<00:00, 188646943.56it/s]"
          ]
        },
        {
          "output_type": "stream",
          "name": "stdout",
          "text": [
            "Extracting ./data/MNIST/raw/train-images-idx3-ubyte.gz to ./data/MNIST/raw\n"
          ]
        },
        {
          "output_type": "stream",
          "name": "stderr",
          "text": [
            "\n"
          ]
        },
        {
          "output_type": "stream",
          "name": "stdout",
          "text": [
            "\n",
            "Downloading http://yann.lecun.com/exdb/mnist/train-labels-idx1-ubyte.gz\n",
            "Downloading http://yann.lecun.com/exdb/mnist/train-labels-idx1-ubyte.gz to ./data/MNIST/raw/train-labels-idx1-ubyte.gz\n"
          ]
        },
        {
          "output_type": "stream",
          "name": "stderr",
          "text": [
            "100%|██████████| 28881/28881 [00:00<00:00, 64059066.01it/s]\n"
          ]
        },
        {
          "output_type": "stream",
          "name": "stdout",
          "text": [
            "Extracting ./data/MNIST/raw/train-labels-idx1-ubyte.gz to ./data/MNIST/raw\n",
            "\n",
            "Downloading http://yann.lecun.com/exdb/mnist/t10k-images-idx3-ubyte.gz\n",
            "Downloading http://yann.lecun.com/exdb/mnist/t10k-images-idx3-ubyte.gz to ./data/MNIST/raw/t10k-images-idx3-ubyte.gz\n"
          ]
        },
        {
          "output_type": "stream",
          "name": "stderr",
          "text": [
            "100%|██████████| 1648877/1648877 [00:00<00:00, 61137113.33it/s]"
          ]
        },
        {
          "output_type": "stream",
          "name": "stdout",
          "text": [
            "Extracting ./data/MNIST/raw/t10k-images-idx3-ubyte.gz to ./data/MNIST/raw\n"
          ]
        },
        {
          "output_type": "stream",
          "name": "stderr",
          "text": [
            "\n"
          ]
        },
        {
          "output_type": "stream",
          "name": "stdout",
          "text": [
            "\n",
            "Downloading http://yann.lecun.com/exdb/mnist/t10k-labels-idx1-ubyte.gz\n",
            "Downloading http://yann.lecun.com/exdb/mnist/t10k-labels-idx1-ubyte.gz to ./data/MNIST/raw/t10k-labels-idx1-ubyte.gz\n"
          ]
        },
        {
          "output_type": "stream",
          "name": "stderr",
          "text": [
            "100%|██████████| 4542/4542 [00:00<00:00, 12607894.62it/s]"
          ]
        },
        {
          "output_type": "stream",
          "name": "stdout",
          "text": [
            "Extracting ./data/MNIST/raw/t10k-labels-idx1-ubyte.gz to ./data/MNIST/raw\n",
            "\n"
          ]
        },
        {
          "output_type": "stream",
          "name": "stderr",
          "text": [
            "\n",
            "/usr/local/lib/python3.10/dist-packages/torch/utils/data/dataloader.py:561: UserWarning: This DataLoader will create 8 worker processes in total. Our suggested max number of worker in current system is 2, which is smaller than what this DataLoader is going to create. Please be aware that excessive worker creation might get DataLoader running slow or even freeze, lower the worker number to avoid potential slowness/freeze if necessary.\n",
            "  warnings.warn(_create_warning_msg(\n"
          ]
        }
      ]
    },
    {
      "cell_type": "code",
      "metadata": {
        "id": "IvisX4HgTn8v",
        "colab": {
          "base_uri": "https://localhost:8080/"
        },
        "outputId": "d6655128-0e0e-4231-9768-b5aa6eec6e08"
      },
      "source": [
        "print(data['train'].__dict__)"
      ],
      "execution_count": null,
      "outputs": [
        {
          "output_type": "stream",
          "name": "stdout",
          "text": [
            "{'dataset': Dataset MNIST\n",
            "    Number of datapoints: 60000\n",
            "    Root location: ./data\n",
            "    Split: Train\n",
            "    StandardTransform\n",
            "Transform: ToTensor(), 'num_workers': 8, 'prefetch_factor': 2, 'pin_memory': False, 'pin_memory_device': '', 'timeout': 0, 'worker_init_fn': None, '_DataLoader__multiprocessing_context': None, '_dataset_kind': 0, 'batch_size': 32, 'drop_last': False, 'sampler': <torch.utils.data.sampler.RandomSampler object at 0x7f3e1de21e10>, 'batch_sampler': <torch.utils.data.sampler.BatchSampler object at 0x7f3e1de21a50>, 'generator': None, 'collate_fn': <function default_collate at 0x7f3e21911870>, 'persistent_workers': False, '_DataLoader__initialized': True, '_IterableDataset_len_called': None, '_iterator': None}\n"
          ]
        }
      ]
    },
    {
      "cell_type": "markdown",
      "metadata": {
        "id": "xI_PZ2Pus5cF"
      },
      "source": [
        "###Understanding Our Data ###\n",
        "It's worthwhile to check out how our dataloader loads the images into tensors. We can print out the size of the loaded data in the `images` tensors.\n",
        "\n"
      ]
    },
    {
      "cell_type": "code",
      "metadata": {
        "id": "P1HO7vN-T5P4",
        "colab": {
          "base_uri": "https://localhost:8080/"
        },
        "outputId": "29a2cdde-a836-43d6-f549-e7d74183de72"
      },
      "source": [
        "# get some random training images\n",
        "dataiter = iter(data['train'])\n",
        "images, labels = next(dataiter)\n",
        "print(images.size())"
      ],
      "execution_count": null,
      "outputs": [
        {
          "output_type": "stream",
          "name": "stdout",
          "text": [
            "torch.Size([32, 1, 28, 28])\n"
          ]
        }
      ]
    },
    {
      "cell_type": "markdown",
      "metadata": {
        "id": "C2h61JjW7rh1"
      },
      "source": [
        "Our `images` tensor is 4-dimensional, (32 x 1 x 28 x 28)\n",
        "\n",
        "PyTorch stores image data in (N x C x H x W) format. Thus the size of this tensor implies we have a mini-batch of 32 images, each have a single channel (grayscale), and each image is 28 x 28, so that makes sense!\n",
        "\n",
        "We can use matplotlib to see what our data looks like:"
      ]
    },
    {
      "cell_type": "code",
      "source": [],
      "metadata": {
        "id": "CIbAdw3sheBE"
      },
      "execution_count": null,
      "outputs": []
    },
    {
      "cell_type": "code",
      "metadata": {
        "id": "E42h6plq63Ar",
        "colab": {
          "base_uri": "https://localhost:8080/",
          "height": 367
        },
        "outputId": "f45cb0d5-81e3-4f92-becd-c9a8bfa6431c"
      },
      "source": [
        "import matplotlib.pyplot as plt\n",
        "import numpy as np\n",
        "\n",
        "def imshow(img):\n",
        "    npimg = img.numpy()\n",
        "    plt.imshow(np.transpose(npimg, (1, 2, 0)))\n",
        "    plt.show()\n",
        "\n",
        "# show images\n",
        "imshow(torchvision.utils.make_grid(images))\n",
        "# print labels\n",
        "print(\"Labels:\" + ' '.join('%9s' % data['classes'][labels[j]] for j in range(8)))\n",
        "\n",
        "\n",
        "flat = torch.flatten(images, 1)\n",
        "print(images.size())\n",
        "print(flat.size())\n"
      ],
      "execution_count": null,
      "outputs": [
        {
          "output_type": "display_data",
          "data": {
            "text/plain": [
              "<Figure size 640x480 with 1 Axes>"
            ],
            "image/png": "[encoded data removed]"
          },
          "metadata": {}
        },
        {
          "output_type": "stream",
          "name": "stdout",
          "text": [
            "Labels:        6         2         5         2         6         3         7         4\n",
            "torch.Size([32, 1, 28, 28])\n",
            "torch.Size([32, 784])\n"
          ]
        }
      ]
    },
    {
      "cell_type": "markdown",
      "metadata": {
        "id": "0z2Zs4W74Rcv"
      },
      "source": [
        "##A Simple Network##\n",
        "\n",
        "First we'll build a very basic neural network with a single hidden layer of neurons. This means one fully connected layer of weights connects the input to the hidden neurons and one fully connected layer connects the hidden neurons to the output. We'll use the RELU activation function on the hidden neuron values as our nonlinearity.\n",
        "\n",
        "These fully connected (or `nn.Linear`) layers expect a 2D input tensor where that is N x I where N is the number of data points in a mini batch and I is the number of inputs. However, our data is formatted in (N x C x H x W) right now so we need to tell PyTorch to rearrange it using `torch.flatten`.\n",
        "\n",
        "After being `flatten`ed our data goes from (32 x 1 x 28 x 28) to being (32 x 784)"
      ]
    },
    {
      "cell_type": "code",
      "source": [
        "import torch.nn as nn\n",
        "import torch.nn.functional as F\n",
        "\n",
        "\n",
        "class SoftmaxModel(nn.Module):\n",
        "    def __init__(self, inputs=28*28, outputs=10):\n",
        "        super(SoftmaxModel, self).__init__()\n",
        "        self.fc1 = nn.Linear(inputs, outputs)\n",
        "\n",
        "    def forward(self, x):\n",
        "        x = torch.flatten(x, 1) # Turns list of images into list of vectors\n",
        "        x = self.fc1(x)\n",
        "        return x        # Return unnormalized probabilities"
      ],
      "metadata": {
        "id": "oyDava6whmaU"
      },
      "execution_count": null,
      "outputs": []
    },
    {
      "cell_type": "code",
      "metadata": {
        "id": "RfglkbNyVLQY"
      },
      "source": [
        "import torch.nn as nn\n",
        "import torch.nn.functional as F\n",
        "\n",
        "\n",
        "class SimpleNet(nn.Module):\n",
        "    def __init__(self, inputs=28*28, hidden=512, outputs=10):\n",
        "        super(SimpleNet, self).__init__()\n",
        "        self.fc1 = nn.Linear(inputs, hidden)\n",
        "        self.fc2 = nn.Linear(hidden, outputs)\n",
        "\n",
        "    def forward(self, x):\n",
        "        x = torch.flatten(x, 1) # Turns list of images into list of vectors\n",
        "        x = self.fc1(x)\n",
        "        x = F.leaky_relu(x)   # activaction function: 92.4% -> 98.6% accuracy\n",
        "        x = self.fc2(x) # Note: no activation function at the end\n",
        "        return x        # Return unnormalized probabilities"
      ],
      "execution_count": null,
      "outputs": []
    },
    {
      "cell_type": "markdown",
      "metadata": {
        "id": "cBv5uxRHrdH_"
      },
      "source": [
        "###The Training Function ###\n",
        "\n",
        "Now for training our network. Our `train` function takes as input the `net` to train and the `dataloader` for the training data. It also takes some optional parameters to control training.\n",
        "\n",
        "For our network we'll be using PyTorch's built in `nn.CrossEntropyLoss`. This will apply a softmax to our network's output, calculate the log-probability assigned to each class, then try to minimize the negative log likelihood of our data (AKA maximize the likelihood)\n",
        "\n",
        "For our optimizer we are using stochastic gradient descent with learning rate, momentum, and decay parameters."
      ]
    },
    {
      "cell_type": "code",
      "metadata": {
        "id": "XrzP3OzSWLnV"
      },
      "source": [
        "import torch.optim as optim\n",
        "\n",
        "def train(net, dataloader, epochs=1, lr=0.01, momentum=0.9, decay=0.0005, verbose=1):\n",
        "  net.to(device)\n",
        "  losses = []\n",
        "  criterion = nn.CrossEntropyLoss() # Is softmax + negative log likelihood\n",
        "  optimizer = optim.SGD(net.parameters(), lr=lr, momentum=momentum, weight_decay=decay)\n",
        "  for epoch in range(epochs):\n",
        "    sum_loss = 0.0\n",
        "    for i, batch in enumerate(dataloader, 0):\n",
        "        # get the inputs; data is a list of [inputs, labels]\n",
        "        inputs, labels = batch[0].to(device), batch[1].to(device)\n",
        "\n",
        "        # zero the parameter gradients\n",
        "        optimizer.zero_grad()\n",
        "\n",
        "        # forward + backward + optimize \n",
        "        outputs = net(inputs) # forward pass\n",
        "        loss = criterion(outputs, labels) # calculating loss\n",
        "        loss.backward()  # autograd magic, computes all the partial derivatives\n",
        "        optimizer.step() # takes a step in negative gradient direction\n",
        "\n",
        "        # print statistics\n",
        "        losses.append(loss.item())\n",
        "        sum_loss += loss.item()\n",
        "        if i % 100 == 99:    # print every 100 mini-batches\n",
        "            if verbose:\n",
        "              print('[%d, %5d] loss: %.3f' %\n",
        "                  (epoch + 1, i + 1, sum_loss / 100))\n",
        "            sum_loss = 0.0\n",
        "  return losses"
      ],
      "execution_count": null,
      "outputs": []
    },
    {
      "cell_type": "markdown",
      "metadata": {
        "id": "7PQs_ofgwmCt"
      },
      "source": [
        "###Training The Network###\n",
        "\n",
        "We'll instantiate a new network and train it on our training data.\n",
        "\n",
        "Our training function prints out some debug information about the epoch, batch number, and current loss values. It also returns a list of all the losses on our mini-batches so we can plot them all once training has finished."
      ]
    },
    {
      "cell_type": "code",
      "metadata": {
        "id": "ZnniOt6IsJjo",
        "colab": {
          "base_uri": "https://localhost:8080/",
          "height": 1000
        },
        "outputId": "964815d7-6fd3-4464-fcd8-a9388fc1b122"
      },
      "source": [
        "net = SimpleNet()\n",
        "\n",
        "losses = train(net, data['train'], epochs=5)\n",
        "plt.plot(losses)"
      ],
      "execution_count": null,
      "outputs": [
        {
          "output_type": "stream",
          "name": "stdout",
          "text": [
            "[1,   100] loss: 1.355\n",
            "[1,   200] loss: 0.502\n",
            "[1,   300] loss: 0.426\n",
            "[1,   400] loss: 0.374\n",
            "[1,   500] loss: 0.317\n",
            "[1,   600] loss: 0.343\n",
            "[1,   700] loss: 0.293\n",
            "[1,   800] loss: 0.285\n",
            "[1,   900] loss: 0.280\n",
            "[1,  1000] loss: 0.260\n",
            "[1,  1100] loss: 0.252\n",
            "[1,  1200] loss: 0.243\n",
            "[1,  1300] loss: 0.251\n",
            "[1,  1400] loss: 0.221\n",
            "[1,  1500] loss: 0.245\n",
            "[1,  1600] loss: 0.219\n",
            "[1,  1700] loss: 0.217\n",
            "[1,  1800] loss: 0.217\n",
            "[2,   100] loss: 0.181\n",
            "[2,   200] loss: 0.183\n",
            "[2,   300] loss: 0.168\n",
            "[2,   400] loss: 0.157\n",
            "[2,   500] loss: 0.160\n",
            "[2,   600] loss: 0.176\n",
            "[2,   700] loss: 0.158\n",
            "[2,   800] loss: 0.169\n",
            "[2,   900] loss: 0.129\n",
            "[2,  1000] loss: 0.154\n",
            "[2,  1100] loss: 0.155\n",
            "[2,  1200] loss: 0.166\n",
            "[2,  1300] loss: 0.144\n",
            "[2,  1400] loss: 0.148\n",
            "[2,  1500] loss: 0.130\n",
            "[2,  1600] loss: 0.163\n",
            "[2,  1700] loss: 0.129\n",
            "[2,  1800] loss: 0.136\n",
            "[3,   100] loss: 0.126\n",
            "[3,   200] loss: 0.117\n",
            "[3,   300] loss: 0.115\n",
            "[3,   400] loss: 0.110\n",
            "[3,   500] loss: 0.114\n",
            "[3,   600] loss: 0.108\n",
            "[3,   700] loss: 0.116\n",
            "[3,   800] loss: 0.111\n",
            "[3,   900] loss: 0.127\n",
            "[3,  1000] loss: 0.100\n",
            "[3,  1100] loss: 0.116\n",
            "[3,  1200] loss: 0.121\n",
            "[3,  1300] loss: 0.107\n",
            "[3,  1400] loss: 0.119\n",
            "[3,  1500] loss: 0.099\n",
            "[3,  1600] loss: 0.130\n",
            "[3,  1700] loss: 0.098\n",
            "[3,  1800] loss: 0.097\n",
            "[4,   100] loss: 0.086\n",
            "[4,   200] loss: 0.091\n",
            "[4,   300] loss: 0.104\n",
            "[4,   400] loss: 0.078\n",
            "[4,   500] loss: 0.082\n",
            "[4,   600] loss: 0.107\n",
            "[4,   700] loss: 0.096\n",
            "[4,   800] loss: 0.095\n",
            "[4,   900] loss: 0.091\n",
            "[4,  1000] loss: 0.094\n",
            "[4,  1100] loss: 0.090\n",
            "[4,  1200] loss: 0.092\n",
            "[4,  1300] loss: 0.097\n",
            "[4,  1400] loss: 0.085\n",
            "[4,  1500] loss: 0.087\n",
            "[4,  1600] loss: 0.079\n",
            "[4,  1700] loss: 0.089\n",
            "[4,  1800] loss: 0.082\n",
            "[5,   100] loss: 0.071\n",
            "[5,   200] loss: 0.067\n",
            "[5,   300] loss: 0.070\n",
            "[5,   400] loss: 0.087\n",
            "[5,   500] loss: 0.086\n",
            "[5,   600] loss: 0.075\n",
            "[5,   700] loss: 0.068\n",
            "[5,   800] loss: 0.077\n",
            "[5,   900] loss: 0.077\n",
            "[5,  1000] loss: 0.084\n",
            "[5,  1100] loss: 0.092\n",
            "[5,  1200] loss: 0.080\n",
            "[5,  1300] loss: 0.066\n",
            "[5,  1400] loss: 0.079\n",
            "[5,  1500] loss: 0.084\n",
            "[5,  1600] loss: 0.078\n",
            "[5,  1700] loss: 0.071\n",
            "[5,  1800] loss: 0.076\n"
          ]
        },
        {
          "output_type": "execute_result",
          "data": {
            "text/plain": [
              "[<matplotlib.lines.Line2D at 0x7f3e1b2bc850>]"
            ]
          },
          "metadata": {},
          "execution_count": 25
        },
        {
          "output_type": "display_data",
          "data": {
            "text/plain": [
              "<Figure size 640x480 with 1 Axes>"
            ],
            "image/png": "[encoded data removed]"
          },
          "metadata": {}
        }
      ]
    },
    {
      "cell_type": "markdown",
      "metadata": {
        "id": "AbQR1GAlzqQt"
      },
      "source": [
        "##Testing The Network##\n",
        "\n",
        "We trained our network! The loss went down! That's good, right? But how good is our network, exactly?\n",
        "\n",
        "Well, we can try running our network on a few of our test images and see what happens:"
      ]
    },
    {
      "cell_type": "code",
      "metadata": {
        "id": "jRnA3phakd4j",
        "colab": {
          "base_uri": "https://localhost:8080/",
          "height": 229
        },
        "outputId": "fb43bfc5-049b-4497-91e6-8edb89067875"
      },
      "source": [
        "dataiter = iter(data['test'])\n",
        "images, labels = next(dataiter)\n",
        "\n",
        "images = images[:4]\n",
        "labels = labels[:4]\n",
        "\n",
        "# print images\n",
        "imshow(torchvision.utils.make_grid(images))\n",
        "print('GroundTruth: ', ' '.join('%5s' % data['classes'][labels[j]] for j in range(4)))\n",
        "outputs = net(images.to(device))\n",
        "_, predicted = torch.max(outputs, 1)\n",
        "\n",
        "print('Predicted: ', ' '.join('%5s' % data['classes'][predicted[j]]\n",
        "                              for j in range(4)))"
      ],
      "execution_count": null,
      "outputs": [
        {
          "output_type": "display_data",
          "data": {
            "text/plain": [
              "<Figure size 640x480 with 1 Axes>"
            ],
            "image/png": "[encoded data removed]"
          },
          "metadata": {}
        },
        {
          "output_type": "stream",
          "name": "stdout",
          "text": [
            "GroundTruth:      7     2     1     0\n",
            "Predicted:      7     2     1     0\n"
          ]
        }
      ]
    },
    {
      "cell_type": "markdown",
      "metadata": {
        "id": "UvR8TTs-z8Cc"
      },
      "source": [
        "Pretty good so far. But we also want to be able to test the network on all of our data. Here's a function that can do just that, computing the accuracy on a full set of data:"
      ]
    },
    {
      "cell_type": "code",
      "metadata": {
        "id": "7TNFVUA3mpJr"
      },
      "source": [
        "def accuracy(net, dataloader):\n",
        "  correct = 0\n",
        "  total = 0\n",
        "  with torch.no_grad():\n",
        "      for batch in dataloader:\n",
        "          images, labels = batch[0].to(device), batch[1].to(device)\n",
        "          outputs = net(images)\n",
        "          _, predicted = torch.max(outputs.data, 1)\n",
        "          total += labels.size(0)\n",
        "          correct += (predicted == labels).sum().item()\n",
        "  return correct/total"
      ],
      "execution_count": null,
      "outputs": []
    },
    {
      "cell_type": "markdown",
      "metadata": {
        "id": "_usQ2gGR01j0"
      },
      "source": [
        "Now we can give it a try:"
      ]
    },
    {
      "cell_type": "code",
      "metadata": {
        "id": "MEl-HH83020a",
        "colab": {
          "base_uri": "https://localhost:8080/"
        },
        "outputId": "822d3342-80ca-443b-fdc7-328d86971555"
      },
      "source": [
        "print(\"Current accuracy: %f\" % accuracy(net, data['train']))"
      ],
      "execution_count": null,
      "outputs": [
        {
          "output_type": "stream",
          "name": "stdout",
          "text": [
            "Current accuracy: 0.983000\n"
          ]
        }
      ]
    },
    {
      "cell_type": "code",
      "source": [
        "print(\"Current accuracy: %f\" % accuracy(net, data['test']))"
      ],
      "metadata": {
        "id": "jPt6cJYRR8Az",
        "colab": {
          "base_uri": "https://localhost:8080/"
        },
        "outputId": "6fb77576-0472-41d4-ed21-5e55217672a9"
      },
      "execution_count": null,
      "outputs": [
        {
          "output_type": "stream",
          "name": "stdout",
          "text": [
            "Current accuracy: 0.975200\n"
          ]
        }
      ]
    },
    {
      "cell_type": "code",
      "source": [
        "class LeNet(nn.Module):\n",
        "    def __init__(self, num_classes=10):\n",
        "        super(LeNet, self).__init__()\n",
        "        \n",
        "        self.features = nn.Sequential( #Input will be 1 x 32 x 32\n",
        "            nn.Conv2d(1, 6, kernel_size=5), # Output will be 6 x 28 x 28\n",
        "            nn.Tanh(),\n",
        "            nn.MaxPool2d(kernel_size=2, stride=2), # Output will be 6 x 14 x 14\n",
        "            nn.Conv2d(6, 16, kernel_size=5), # Output will be 16 x 10 x 10\n",
        "            nn.Tanh(),\n",
        "            nn.MaxPool2d(kernel_size=2, stride=2) # Output will be 16 x 5 x 5\n",
        "        )\n",
        "        \n",
        "        self.classifier = nn.Sequential(\n",
        "            nn.Linear(16 * 4 * 4, 120),\n",
        "            nn.Tanh(),\n",
        "            nn.Linear(120, 84),\n",
        "            nn.Tanh(),\n",
        "            nn.Linear(84, num_classes)\n",
        "        )\n",
        "    \n",
        "    def forward(self, x):\n",
        "        x = self.features(x)\n",
        "        x = x.view(x.size(0), -1)\n",
        "        x = self.classifier(x)\n",
        "        return x"
      ],
      "metadata": {
        "id": "v5ywv2Dj1qel"
      },
      "execution_count": null,
      "outputs": []
    },
    {
      "cell_type": "code",
      "source": [
        "lenet = LeNet()\n",
        "\n",
        "losses = train(lenet, data['train'], epochs=5)\n",
        "plt.plot(losses)"
      ],
      "metadata": {
        "colab": {
          "base_uri": "https://localhost:8080/",
          "height": 1000
        },
        "id": "2pdRbsNT4M7S",
        "outputId": "7e8e2ff8-ba81-4835-bd38-8790a4585cc5"
      },
      "execution_count": null,
      "outputs": [
        {
          "output_type": "stream",
          "name": "stdout",
          "text": [
            "[1,   100] loss: 2.100\n",
            "[1,   200] loss: 0.715\n",
            "[1,   300] loss: 0.417\n",
            "[1,   400] loss: 0.293\n",
            "[1,   500] loss: 0.253\n",
            "[1,   600] loss: 0.221\n",
            "[1,   700] loss: 0.154\n",
            "[1,   800] loss: 0.144\n",
            "[1,   900] loss: 0.139\n",
            "[1,  1000] loss: 0.126\n",
            "[1,  1100] loss: 0.113\n",
            "[1,  1200] loss: 0.090\n",
            "[1,  1300] loss: 0.088\n",
            "[1,  1400] loss: 0.084\n",
            "[1,  1500] loss: 0.103\n",
            "[1,  1600] loss: 0.094\n",
            "[1,  1700] loss: 0.092\n",
            "[1,  1800] loss: 0.074\n",
            "[2,   100] loss: 0.069\n",
            "[2,   200] loss: 0.088\n",
            "[2,   300] loss: 0.067\n",
            "[2,   400] loss: 0.065\n",
            "[2,   500] loss: 0.070\n",
            "[2,   600] loss: 0.066\n",
            "[2,   700] loss: 0.053\n",
            "[2,   800] loss: 0.065\n",
            "[2,   900] loss: 0.068\n",
            "[2,  1000] loss: 0.068\n",
            "[2,  1100] loss: 0.057\n",
            "[2,  1200] loss: 0.067\n",
            "[2,  1300] loss: 0.067\n",
            "[2,  1400] loss: 0.040\n",
            "[2,  1500] loss: 0.049\n",
            "[2,  1600] loss: 0.071\n",
            "[2,  1700] loss: 0.050\n",
            "[2,  1800] loss: 0.053\n",
            "[3,   100] loss: 0.044\n",
            "[3,   200] loss: 0.044\n",
            "[3,   300] loss: 0.050\n",
            "[3,   400] loss: 0.059\n",
            "[3,   500] loss: 0.044\n",
            "[3,   600] loss: 0.045\n",
            "[3,   700] loss: 0.047\n",
            "[3,   800] loss: 0.042\n",
            "[3,   900] loss: 0.042\n",
            "[3,  1000] loss: 0.039\n",
            "[3,  1100] loss: 0.036\n",
            "[3,  1200] loss: 0.042\n",
            "[3,  1300] loss: 0.050\n",
            "[3,  1400] loss: 0.046\n",
            "[3,  1500] loss: 0.047\n",
            "[3,  1600] loss: 0.051\n",
            "[3,  1700] loss: 0.045\n",
            "[3,  1800] loss: 0.049\n",
            "[4,   100] loss: 0.037\n",
            "[4,   200] loss: 0.028\n",
            "[4,   300] loss: 0.035\n",
            "[4,   400] loss: 0.031\n",
            "[4,   500] loss: 0.035\n",
            "[4,   600] loss: 0.037\n",
            "[4,   700] loss: 0.033\n",
            "[4,   800] loss: 0.038\n",
            "[4,   900] loss: 0.049\n",
            "[4,  1000] loss: 0.040\n",
            "[4,  1100] loss: 0.037\n",
            "[4,  1200] loss: 0.043\n",
            "[4,  1300] loss: 0.038\n",
            "[4,  1400] loss: 0.039\n",
            "[4,  1500] loss: 0.034\n",
            "[4,  1600] loss: 0.042\n",
            "[4,  1700] loss: 0.047\n",
            "[4,  1800] loss: 0.049\n",
            "[5,   100] loss: 0.032\n",
            "[5,   200] loss: 0.029\n",
            "[5,   300] loss: 0.033\n",
            "[5,   400] loss: 0.039\n",
            "[5,   500] loss: 0.031\n",
            "[5,   600] loss: 0.032\n",
            "[5,   700] loss: 0.029\n",
            "[5,   800] loss: 0.031\n",
            "[5,   900] loss: 0.038\n",
            "[5,  1000] loss: 0.033\n",
            "[5,  1100] loss: 0.034\n",
            "[5,  1200] loss: 0.029\n",
            "[5,  1300] loss: 0.031\n",
            "[5,  1400] loss: 0.030\n",
            "[5,  1500] loss: 0.035\n",
            "[5,  1600] loss: 0.036\n",
            "[5,  1700] loss: 0.040\n",
            "[5,  1800] loss: 0.037\n"
          ]
        },
        {
          "output_type": "execute_result",
          "data": {
            "text/plain": [
              "[<matplotlib.lines.Line2D at 0x7f3e1b11ed10>]"
            ]
          },
          "metadata": {},
          "execution_count": 35
        },
        {
          "output_type": "display_data",
          "data": {
            "text/plain": [
              "<Figure size 640x480 with 1 Axes>"
            ],
            "image/png": "[encoded data removed]"
          },
          "metadata": {}
        }
      ]
    },
    {
      "cell_type": "code",
      "source": [
        "losses += train(lenet, data['train'], lr=.001, epochs=1)\n",
        "plt.plot(losses)"
      ],
      "metadata": {
        "colab": {
          "base_uri": "https://localhost:8080/",
          "height": 814
        },
        "id": "9ubsUwnV58ss",
        "outputId": "0ed89ff9-d6ad-4cf1-f02e-ca8e468c8d3f"
      },
      "execution_count": null,
      "outputs": [
        {
          "output_type": "stream",
          "name": "stderr",
          "text": [
            "/usr/local/lib/python3.10/dist-packages/torch/utils/data/dataloader.py:561: UserWarning: This DataLoader will create 8 worker processes in total. Our suggested max number of worker in current system is 2, which is smaller than what this DataLoader is going to create. Please be aware that excessive worker creation might get DataLoader running slow or even freeze, lower the worker number to avoid potential slowness/freeze if necessary.\n",
            "  warnings.warn(_create_warning_msg(\n"
          ]
        },
        {
          "output_type": "stream",
          "name": "stdout",
          "text": [
            "[1,   100] loss: 0.022\n",
            "[1,   200] loss: 0.024\n",
            "[1,   300] loss: 0.019\n",
            "[1,   400] loss: 0.022\n",
            "[1,   500] loss: 0.024\n",
            "[1,   600] loss: 0.023\n",
            "[1,   700] loss: 0.021\n",
            "[1,   800] loss: 0.022\n",
            "[1,   900] loss: 0.016\n",
            "[1,  1000] loss: 0.027\n",
            "[1,  1100] loss: 0.023\n",
            "[1,  1200] loss: 0.021\n",
            "[1,  1300] loss: 0.019\n",
            "[1,  1400] loss: 0.020\n",
            "[1,  1500] loss: 0.028\n",
            "[1,  1600] loss: 0.023\n",
            "[1,  1700] loss: 0.019\n",
            "[1,  1800] loss: 0.026\n"
          ]
        },
        {
          "output_type": "execute_result",
          "data": {
            "text/plain": [
              "[<matplotlib.lines.Line2D at 0x7f3e1b2bf670>]"
            ]
          },
          "metadata": {},
          "execution_count": 38
        },
        {
          "output_type": "display_data",
          "data": {
            "text/plain": [
              "<Figure size 640x480 with 1 Axes>"
            ],
            "image/png": "[encoded data removed]"
          },
          "metadata": {}
        }
      ]
    },
    {
      "cell_type": "code",
      "source": [
        "print(\"Current accuracy: %f\" % accuracy(lenet, data['test']))"
      ],
      "metadata": {
        "colab": {
          "base_uri": "https://localhost:8080/"
        },
        "id": "V83qnu6y5t3M",
        "outputId": "43d7b277-cae2-4a3e-e9ff-ba7fcd921b33"
      },
      "execution_count": null,
      "outputs": [
        {
          "output_type": "stream",
          "name": "stdout",
          "text": [
            "Current accuracy: 0.990000\n"
          ]
        }
      ]
    },
    {
      "cell_type": "markdown",
      "metadata": {
        "id": "3gIXV-es1T7C"
      },
      "source": [
        "##Experiments##\n",
        "\n",
        "Now it's time to poke around a little bit with our models. First I just want this utility function to do window smoothing of data for us. As you may have noticed, we are doing *stochastic* gradient descent, so our losses for each mini-batch can vary quite dramatically. If we smooth them out a little bit they will be easier to look at when we plot them."
      ]
    },
    {
      "cell_type": "code",
      "metadata": {
        "id": "Zq0AprMN30cS"
      },
      "source": [
        "def smooth(x, size):\n",
        "  return np.convolve(x, np.ones(size)/size, mode='same')"
      ],
      "execution_count": null,
      "outputs": []
    },
    {
      "cell_type": "markdown",
      "metadata": {
        "id": "TdHueTHS7ClZ"
      },
      "source": [
        "###Learning Rate###\n",
        "\n",
        "Let's experiment around with the learning rate of our model. Changing the learning rate should affect how fast our model converges and how accurate it is. We can see the effect when we plot out the loss function over time for models with different learning rates:"
      ]
    },
    {
      "cell_type": "code",
      "metadata": {
        "id": "lC3gB5j61j2Z"
      },
      "source": [
        "net_high = SimpleNet()\n",
        "losses_high = train(net_high, data['train'], lr=.1, verbose=1)\n",
        "acc_high = accuracy(net_high, data['test'])\n",
        "plt.plot(smooth(losses_high,20), 'r-')\n",
        "\n",
        "\n",
        "net_mid = SimpleNet()\n",
        "losses_mid = train(net_mid, data['train'], lr=.01, verbose=1)\n",
        "acc_mid = accuracy(net_mid, data['test'])\n",
        "plt.plot(smooth(losses_mid,20), 'b-')\n",
        "\n",
        "\n",
        "net_low = SimpleNet()\n",
        "losses_low = train(net_low, data['train'], lr=.001, verbose=1)\n",
        "acc_low = accuracy(net_low, data['test'])\n",
        "plt.plot(smooth(losses_low,20), 'g-')\n",
        "\n",
        "print(acc_high, acc_mid, acc_low)"
      ],
      "execution_count": null,
      "outputs": []
    },
    {
      "cell_type": "markdown",
      "metadata": {
        "id": "-aM_X31X7gxf"
      },
      "source": [
        "###Momentum###\n",
        "\n",
        "We are using the default value for momentum of `0.9`. Fix your value for the learning rate and try varying the values for momentum.\n"
      ]
    },
    {
      "cell_type": "code",
      "metadata": {
        "id": "X5rsSpoP78KM"
      },
      "source": [
        "#Write your code here for experimenting with different values of momentum."
      ],
      "execution_count": null,
      "outputs": []
    },
    {
      "cell_type": "markdown",
      "metadata": {
        "id": "weTQgPBE8GC-"
      },
      "source": [
        "###Weight Decay###\n",
        "\n",
        "Right now we aren't using any weight decay with our model. However, it can be useful as a method of regularization if we are worried about overfitting.\n"
      ]
    },
    {
      "cell_type": "code",
      "metadata": {
        "id": "Jywu7uy0aLa8"
      },
      "source": [
        "#Write your code here for experimenting with different weight decay"
      ],
      "execution_count": null,
      "outputs": []
    },
    {
      "cell_type": "markdown",
      "metadata": {
        "id": "mKmBp4tMaYro"
      },
      "source": [
        "###A Bigger Model###\n",
        "\n",
        "Before we used a very simple model but now it's time to try adding some complexity. Create a network that takes as input the 28x28 image, 10 outputs, and any number of layers as long as it has fewer than 2,000,000 connections. Our simple network before had 784\\*512 + 512\\*10 = 406,528 connections.\n",
        "\n",
        "Use only fully connected (`nn.Linear`) layers (we'll get to other layer types soon). However, play around with different [activation functions](https://pytorch.org/docs/stable/nn.functional.html#non-linear-activation-functions), [losses](https://pytorch.org/docs/stable/nn.html#loss-functions), and hyperparameter settings. You can also try different training regimes. For example, you could try lowering the learning rate during training by calling our training method twice like this:\n",
        "\n",
        "    train(net, data['train'], epochs=5, lr=.1)\n",
        "    train(net, data['train'], epochs=3, lr=.01)\n",
        "    train(net, data['train'], epochs=2, lr=.001)\n",
        "\n",
        "Maybe it works better? Why did I choose those particular numbers? Who knows! It's deep learning, no one really knows what will work you have to just try things and see.\n",
        "\n",
        "Experiment with different network architectures and settings to get the most accurate model."
      ]
    },
    {
      "cell_type": "code",
      "metadata": {
        "id": "J0yynxFmd0ss"
      },
      "source": [
        "#Write your new model and experiments here\n",
        "\n",
        "class ExperiNet(nn.Module):\n",
        "    def __init__(self):\n",
        "        super(ExperiNet, self).__init__()\n",
        "        self.fc1 = nn.Linear(28*28, 512)\n",
        "        self.fc2 = nn.Linear(512, 10)\n",
        "\n",
        "    def forward(self, x):\n",
        "        x = torch.flatten(x, 1)\n",
        "        x = self.fc1(x)\n",
        "        x = F.relu(x)\n",
        "        x = self.fc2(x)\n",
        "        return x"
      ],
      "execution_count": null,
      "outputs": []
    }
  ]
}